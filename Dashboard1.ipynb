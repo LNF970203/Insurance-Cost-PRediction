{
 "cells": [
  {
   "cell_type": "code",
   "execution_count": 1,
   "id": "5af1c403",
   "metadata": {},
   "outputs": [],
   "source": [
    "import pandas as pd\n",
    "import numpy as np\n",
    "import seaborn as sns\n",
    "import matplotlib.pyplot as plt\n",
    "import streamlit as st\n",
    "import pickle\n",
    "import cv2 as cv2\n",
    "from sklearn.model_selection import train_test_split\n",
    "from sklearn.metrics import mean_squared_error"
   ]
  },
  {
   "cell_type": "code",
   "execution_count": 2,
   "id": "2900a363",
   "metadata": {},
   "outputs": [],
   "source": [
    "load_model = pickle.load(open('Insurance_cost_prediction.pkl','rb'))"
   ]
  },
  {
   "cell_type": "code",
   "execution_count": 3,
   "id": "a47e328a",
   "metadata": {},
   "outputs": [],
   "source": [
    "data = pd.read_csv(\"C:\\Lachin\\DataSets\\Insurance\\insurance.csv\")"
   ]
  },
  {
   "cell_type": "code",
   "execution_count": 4,
   "id": "ffa48ec2",
   "metadata": {},
   "outputs": [],
   "source": [
    "df = pd.read_csv(\"C:\\Lachin\\DataSets\\Insurance\\Insurance_Dummy.csv\")#Data frame with dummy variables"
   ]
  },
  {
   "cell_type": "code",
   "execution_count": 5,
   "id": "a1200202",
   "metadata": {},
   "outputs": [
    {
     "data": {
      "text/html": [
       "<div>\n",
       "<style scoped>\n",
       "    .dataframe tbody tr th:only-of-type {\n",
       "        vertical-align: middle;\n",
       "    }\n",
       "\n",
       "    .dataframe tbody tr th {\n",
       "        vertical-align: top;\n",
       "    }\n",
       "\n",
       "    .dataframe thead th {\n",
       "        text-align: right;\n",
       "    }\n",
       "</style>\n",
       "<table border=\"1\" class=\"dataframe\">\n",
       "  <thead>\n",
       "    <tr style=\"text-align: right;\">\n",
       "      <th></th>\n",
       "      <th>age</th>\n",
       "      <th>bmi</th>\n",
       "      <th>charges</th>\n",
       "      <th>sex_male</th>\n",
       "      <th>children_1</th>\n",
       "      <th>children_2</th>\n",
       "      <th>children_3</th>\n",
       "      <th>children_4</th>\n",
       "      <th>children_5</th>\n",
       "      <th>smoker_yes</th>\n",
       "      <th>region_northwest</th>\n",
       "      <th>region_southeast</th>\n",
       "      <th>region_southwest</th>\n",
       "    </tr>\n",
       "  </thead>\n",
       "  <tbody>\n",
       "    <tr>\n",
       "      <th>0</th>\n",
       "      <td>19</td>\n",
       "      <td>27.900</td>\n",
       "      <td>16884.92400</td>\n",
       "      <td>0</td>\n",
       "      <td>0</td>\n",
       "      <td>0</td>\n",
       "      <td>0</td>\n",
       "      <td>0</td>\n",
       "      <td>0</td>\n",
       "      <td>1</td>\n",
       "      <td>0</td>\n",
       "      <td>0</td>\n",
       "      <td>1</td>\n",
       "    </tr>\n",
       "    <tr>\n",
       "      <th>1</th>\n",
       "      <td>18</td>\n",
       "      <td>33.770</td>\n",
       "      <td>1725.55230</td>\n",
       "      <td>1</td>\n",
       "      <td>1</td>\n",
       "      <td>0</td>\n",
       "      <td>0</td>\n",
       "      <td>0</td>\n",
       "      <td>0</td>\n",
       "      <td>0</td>\n",
       "      <td>0</td>\n",
       "      <td>1</td>\n",
       "      <td>0</td>\n",
       "    </tr>\n",
       "    <tr>\n",
       "      <th>2</th>\n",
       "      <td>28</td>\n",
       "      <td>33.000</td>\n",
       "      <td>4449.46200</td>\n",
       "      <td>1</td>\n",
       "      <td>0</td>\n",
       "      <td>0</td>\n",
       "      <td>1</td>\n",
       "      <td>0</td>\n",
       "      <td>0</td>\n",
       "      <td>0</td>\n",
       "      <td>0</td>\n",
       "      <td>1</td>\n",
       "      <td>0</td>\n",
       "    </tr>\n",
       "    <tr>\n",
       "      <th>3</th>\n",
       "      <td>33</td>\n",
       "      <td>22.705</td>\n",
       "      <td>21984.47061</td>\n",
       "      <td>1</td>\n",
       "      <td>0</td>\n",
       "      <td>0</td>\n",
       "      <td>0</td>\n",
       "      <td>0</td>\n",
       "      <td>0</td>\n",
       "      <td>0</td>\n",
       "      <td>1</td>\n",
       "      <td>0</td>\n",
       "      <td>0</td>\n",
       "    </tr>\n",
       "    <tr>\n",
       "      <th>4</th>\n",
       "      <td>32</td>\n",
       "      <td>28.880</td>\n",
       "      <td>3866.85520</td>\n",
       "      <td>1</td>\n",
       "      <td>0</td>\n",
       "      <td>0</td>\n",
       "      <td>0</td>\n",
       "      <td>0</td>\n",
       "      <td>0</td>\n",
       "      <td>0</td>\n",
       "      <td>1</td>\n",
       "      <td>0</td>\n",
       "      <td>0</td>\n",
       "    </tr>\n",
       "  </tbody>\n",
       "</table>\n",
       "</div>"
      ],
      "text/plain": [
       "   age     bmi      charges  sex_male  children_1  children_2  children_3  \\\n",
       "0   19  27.900  16884.92400         0           0           0           0   \n",
       "1   18  33.770   1725.55230         1           1           0           0   \n",
       "2   28  33.000   4449.46200         1           0           0           1   \n",
       "3   33  22.705  21984.47061         1           0           0           0   \n",
       "4   32  28.880   3866.85520         1           0           0           0   \n",
       "\n",
       "   children_4  children_5  smoker_yes  region_northwest  region_southeast  \\\n",
       "0           0           0           1                 0                 0   \n",
       "1           0           0           0                 0                 1   \n",
       "2           0           0           0                 0                 1   \n",
       "3           0           0           0                 1                 0   \n",
       "4           0           0           0                 1                 0   \n",
       "\n",
       "   region_southwest  \n",
       "0                 1  \n",
       "1                 0  \n",
       "2                 0  \n",
       "3                 0  \n",
       "4                 0  "
      ]
     },
     "execution_count": 5,
     "metadata": {},
     "output_type": "execute_result"
    }
   ],
   "source": [
    "df.head()"
   ]
  },
  {
   "cell_type": "code",
   "execution_count": 6,
   "id": "8e4d3c77",
   "metadata": {},
   "outputs": [],
   "source": [
    "x = df.drop('charges', axis=1)\n",
    "y = df['charges']"
   ]
  },
  {
   "cell_type": "code",
   "execution_count": 7,
   "id": "ed16c0ab",
   "metadata": {},
   "outputs": [],
   "source": [
    "x_train,x_test,y_train,y_test = train_test_split(x,y,test_size=0.2)"
   ]
  },
  {
   "cell_type": "code",
   "execution_count": 8,
   "id": "6189571f",
   "metadata": {},
   "outputs": [],
   "source": [
    "y_pred = load_model.predict(x_test)"
   ]
  },
  {
   "cell_type": "code",
   "execution_count": 9,
   "id": "e0a7ac5d",
   "metadata": {},
   "outputs": [
    {
     "data": {
      "text/plain": [
       "4383.502231051217"
      ]
     },
     "execution_count": 9,
     "metadata": {},
     "output_type": "execute_result"
    }
   ],
   "source": [
    "np.sqrt(mean_squared_error(y_pred,y_test))"
   ]
  },
  {
   "cell_type": "code",
   "execution_count": 10,
   "id": "fc75c1af",
   "metadata": {},
   "outputs": [],
   "source": [
    "#Creating the dashboard"
   ]
  },
  {
   "cell_type": "code",
   "execution_count": 11,
   "id": "02afed63",
   "metadata": {},
   "outputs": [
    {
     "name": "stderr",
     "output_type": "stream",
     "text": [
      "2021-11-23 16:55:11.148 \n",
      "  \u001b[33m\u001b[1mWarning:\u001b[0m to view this Streamlit app on a browser, run it with the following\n",
      "  command:\n",
      "\n",
      "    streamlit run C:\\Users\\acer\\anaconda3\\lib\\site-packages\\ipykernel_launcher.py [ARGUMENTS]\n"
     ]
    },
    {
     "data": {
      "text/plain": [
       "DeltaGenerator(_root_container=0, _provided_cursor=None, _parent=None, _block_type=None, _form_data=None)"
      ]
     },
     "execution_count": 11,
     "metadata": {},
     "output_type": "execute_result"
    }
   ],
   "source": [
    "st.title(\"Insurance Cost Prediction using Machine Learning\")"
   ]
  },
  {
   "cell_type": "code",
   "execution_count": 12,
   "id": "e86a3c6e",
   "metadata": {},
   "outputs": [],
   "source": [
    "image = cv2.imread(\"C:\\Lachin\\DataSets\\Insurance\\insurance.jpg\")"
   ]
  },
  {
   "cell_type": "code",
   "execution_count": 13,
   "id": "6478118e",
   "metadata": {},
   "outputs": [
    {
     "data": {
      "text/plain": [
       "DeltaGenerator(_root_container=0, _provided_cursor=None, _parent=None, _block_type=None, _form_data=None)"
      ]
     },
     "execution_count": 13,
     "metadata": {},
     "output_type": "execute_result"
    }
   ],
   "source": [
    "st.image(image, caption='Helath Matters the Most')"
   ]
  },
  {
   "cell_type": "code",
   "execution_count": 14,
   "id": "0b7c1b2a",
   "metadata": {},
   "outputs": [
    {
     "data": {
      "text/plain": [
       "DeltaGenerator(_root_container=0, _provided_cursor=None, _parent=None, _block_type=None, _form_data=None)"
      ]
     },
     "execution_count": 14,
     "metadata": {},
     "output_type": "execute_result"
    }
   ],
   "source": [
    "st.header('Behavior of Factors Affecting the Total Charges')"
   ]
  },
  {
   "cell_type": "code",
   "execution_count": 15,
   "id": "e934274c",
   "metadata": {},
   "outputs": [],
   "source": [
    "def smoker():\n",
    "    fig = plt.figure(figsize=(5,5))\n",
    "    sns.scatterplot(data=data, x='age',y='charges', hue='smoker')\n",
    "    plt.title('Scatter Plot of Age vs Charges with Smoker and Non-Smokers')\n",
    "    st.pyplot(fig)\n",
    "\n",
    "def NoChildren():\n",
    "    fig1 = plt.figure(figsize=(5,5))\n",
    "    sns.scatterplot(data=data, x='age',y='charges',hue='children')\n",
    "    plt.title('Scatterplot of Age vs Total Charges with Number of Childrens in the Family')\n",
    "    plt.xlabel('Number of Childrens')\n",
    "    plt.ylabel('Total Charges')\n",
    "    st.pyplot(fig1)\n",
    "    \n",
    "def region():\n",
    "    fig2 = plt.figure(figsize=(5,5))\n",
    "    sns.countplot(data['region'])\n",
    "    plt.title('Number of Samples Takes from each Region')\n",
    "    st.pyplot(fig2)    "
   ]
  },
  {
   "cell_type": "code",
   "execution_count": 16,
   "id": "8030e5d2",
   "metadata": {},
   "outputs": [],
   "source": [
    "def behaviors():\n",
    "    st.subheader('Relationship Visualization')\n",
    "    sd = st.radio('Select a Variable',['smoker','Number of Childrens','region'])\n",
    "    if (sd=='smoker'):\n",
    "        smoker()\n",
    "        \n",
    "    elif (sd=='Number of Childrens'):\n",
    "        NoChildren()\n",
    "        \n",
    "    elif (sd=='region'):\n",
    "        region()\n",
    "        "
   ]
  },
  {
   "cell_type": "code",
   "execution_count": 17,
   "id": "3add8915",
   "metadata": {},
   "outputs": [
    {
     "name": "stderr",
     "output_type": "stream",
     "text": [
      "2021-11-23 16:55:11.389 NumExpr defaulting to 8 threads.\n"
     ]
    },
    {
     "data": {
      "image/png": "[encoded data removed]",
      "text/plain": [
       "<Figure size 360x360 with 1 Axes>"
      ]
     },
     "metadata": {
      "needs_background": "light"
     },
     "output_type": "display_data"
    }
   ],
   "source": [
    "ui = behaviors()"
   ]
  },
  {
   "cell_type": "code",
   "execution_count": 18,
   "id": "c486f884",
   "metadata": {},
   "outputs": [
    {
     "data": {
      "text/plain": [
       "DeltaGenerator(_root_container=0, _provided_cursor=None, _parent=None, _block_type=None, _form_data=None)"
      ]
     },
     "execution_count": 18,
     "metadata": {},
     "output_type": "execute_result"
    }
   ],
   "source": [
    "st.header('Data Set')"
   ]
  },
  {
   "cell_type": "code",
   "execution_count": 19,
   "id": "15aac689",
   "metadata": {},
   "outputs": [
    {
     "data": {
      "text/plain": [
       "DeltaGenerator(_root_container=0, _provided_cursor=None, _parent=None, _block_type=None, _form_data=None)"
      ]
     },
     "execution_count": 19,
     "metadata": {},
     "output_type": "execute_result"
    }
   ],
   "source": [
    "st.dataframe(data)"
   ]
  },
  {
   "cell_type": "code",
   "execution_count": 20,
   "id": "606bbce5",
   "metadata": {},
   "outputs": [],
   "source": [
    "train_R =load_model.score(x_train,y_train)"
   ]
  },
  {
   "cell_type": "code",
   "execution_count": 21,
   "id": "2233a8d1",
   "metadata": {},
   "outputs": [],
   "source": [
    "test_R = load_model.score(x_test,y_test)"
   ]
  },
  {
   "cell_type": "code",
   "execution_count": 107,
   "id": "a178f536",
   "metadata": {},
   "outputs": [
    {
     "data": {
      "text/plain": [
       "DeltaGenerator(_root_container=0, _provided_cursor=None, _parent=None, _block_type=None, _form_data=None)"
      ]
     },
     "execution_count": 107,
     "metadata": {},
     "output_type": "execute_result"
    }
   ],
   "source": [
    "st.header('Model Score')"
   ]
  },
  {
   "cell_type": "code",
   "execution_count": 106,
   "id": "44ca8771",
   "metadata": {},
   "outputs": [
    {
     "data": {
      "text/plain": [
       "'DeltaGenerator(_root_container=0, _provided_cursor=None, _parent=None, _block_type=None, _form_data=None)'"
      ]
     },
     "execution_count": 106,
     "metadata": {},
     "output_type": "execute_result"
    }
   ],
   "source": [
    "st.metric('Coefficient of Determination of Training Data',value=train_R)"
   ]
  },
  {
   "cell_type": "code",
   "execution_count": 32,
   "id": "2644675d",
   "metadata": {},
   "outputs": [],
   "source": [
    "def bmi(height,weight):\n",
    "    h=height/100\n",
    "    b = weight/(h**2)\n",
    "    return b"
   ]
  },
  {
   "cell_type": "code",
   "execution_count": 33,
   "id": "f4bb47f5",
   "metadata": {},
   "outputs": [
    {
     "data": {
      "text/plain": [
       "25.77250395983785"
      ]
     },
     "execution_count": 33,
     "metadata": {},
     "output_type": "execute_result"
    }
   ],
   "source": [
    "bmi(193,96)"
   ]
  },
  {
   "cell_type": "code",
   "execution_count": 91,
   "id": "49fdef2d",
   "metadata": {},
   "outputs": [
    {
     "data": {
      "text/html": [
       "<div>\n",
       "<style scoped>\n",
       "    .dataframe tbody tr th:only-of-type {\n",
       "        vertical-align: middle;\n",
       "    }\n",
       "\n",
       "    .dataframe tbody tr th {\n",
       "        vertical-align: top;\n",
       "    }\n",
       "\n",
       "    .dataframe thead th {\n",
       "        text-align: right;\n",
       "    }\n",
       "</style>\n",
       "<table border=\"1\" class=\"dataframe\">\n",
       "  <thead>\n",
       "    <tr style=\"text-align: right;\">\n",
       "      <th></th>\n",
       "      <th>age</th>\n",
       "      <th>sex</th>\n",
       "      <th>bmi</th>\n",
       "      <th>children</th>\n",
       "      <th>smoker</th>\n",
       "      <th>region</th>\n",
       "      <th>charges</th>\n",
       "    </tr>\n",
       "  </thead>\n",
       "  <tbody>\n",
       "    <tr>\n",
       "      <th>0</th>\n",
       "      <td>19</td>\n",
       "      <td>female</td>\n",
       "      <td>27.900</td>\n",
       "      <td>0</td>\n",
       "      <td>yes</td>\n",
       "      <td>southwest</td>\n",
       "      <td>16884.92400</td>\n",
       "    </tr>\n",
       "    <tr>\n",
       "      <th>1</th>\n",
       "      <td>18</td>\n",
       "      <td>male</td>\n",
       "      <td>33.770</td>\n",
       "      <td>1</td>\n",
       "      <td>no</td>\n",
       "      <td>southeast</td>\n",
       "      <td>1725.55230</td>\n",
       "    </tr>\n",
       "    <tr>\n",
       "      <th>2</th>\n",
       "      <td>28</td>\n",
       "      <td>male</td>\n",
       "      <td>33.000</td>\n",
       "      <td>3</td>\n",
       "      <td>no</td>\n",
       "      <td>southeast</td>\n",
       "      <td>4449.46200</td>\n",
       "    </tr>\n",
       "    <tr>\n",
       "      <th>3</th>\n",
       "      <td>33</td>\n",
       "      <td>male</td>\n",
       "      <td>22.705</td>\n",
       "      <td>0</td>\n",
       "      <td>no</td>\n",
       "      <td>northwest</td>\n",
       "      <td>21984.47061</td>\n",
       "    </tr>\n",
       "    <tr>\n",
       "      <th>4</th>\n",
       "      <td>32</td>\n",
       "      <td>male</td>\n",
       "      <td>28.880</td>\n",
       "      <td>0</td>\n",
       "      <td>no</td>\n",
       "      <td>northwest</td>\n",
       "      <td>3866.85520</td>\n",
       "    </tr>\n",
       "  </tbody>\n",
       "</table>\n",
       "</div>"
      ],
      "text/plain": [
       "   age     sex     bmi  children smoker     region      charges\n",
       "0   19  female  27.900         0    yes  southwest  16884.92400\n",
       "1   18    male  33.770         1     no  southeast   1725.55230\n",
       "2   28    male  33.000         3     no  southeast   4449.46200\n",
       "3   33    male  22.705         0     no  northwest  21984.47061\n",
       "4   32    male  28.880         0     no  northwest   3866.85520"
      ]
     },
     "execution_count": 91,
     "metadata": {},
     "output_type": "execute_result"
    }
   ],
   "source": [
    "data.head()"
   ]
  },
  {
   "cell_type": "code",
   "execution_count": 101,
   "id": "af486447",
   "metadata": {},
   "outputs": [
    {
     "data": {
      "text/plain": [
       "DeltaGenerator(_root_container=0, _provided_cursor=None, _parent=None, _block_type=None, _form_data=None)"
      ]
     },
     "execution_count": 101,
     "metadata": {},
     "output_type": "execute_result"
    }
   ],
   "source": [
    "st.header('User Dashboard')"
   ]
  },
  {
   "cell_type": "code",
   "execution_count": 197,
   "id": "b32fa4ca",
   "metadata": {},
   "outputs": [],
   "source": [
    "def user_inputs():\n",
    "    age = st.slider('Your Age',1,100,30)\n",
    "    sex = st.selectbox('Select Your Gendre',['male','female'])\n",
    "    height = st.slider('Your Height in (cm)',50,250,150)\n",
    "    weight = st.slider('Your Weight in (Kg)',10,150,50)\n",
    "    children = st.selectbox('Number of Children in Your Family',[0,1,2,3,4,5])\n",
    "    smoker = st.radio('Smoker', ['yes','no'])\n",
    "    region = st.radio('Select Your Region',['northeast','northwest','southeast','southwest'])\n",
    "    \n",
    "    bmi1 = bmi(height, weight)\n",
    "    input_data={\n",
    "        'age':age,\n",
    "        'sex':sex,\n",
    "        'bmi':bmi1,\n",
    "        'children':children,\n",
    "        'smoker':smoker,\n",
    "        'region':region\n",
    "    }\n",
    "    \n",
    "    copy_data = data.copy()\n",
    "    copy_data.drop('charges', axis=1, inplace=True)\n",
    "    test_data = pd.DataFrame(input_data, index=[0])\n",
    "    temp_frame = pd.concat([copy_data,test_data],ignore_index=True, axis=0)\n",
    "    temp_dum_data = pd.get_dummies(temp_frame, columns=['sex','children','smoker','region'], drop_first=True)\n",
    "    variable = temp_dum_data.iloc[-1,:]\n",
    "    c = pd.DataFrame([variable.array], columns=temp_dum_data.columns)\n",
    "    return c\n",
    "    \n",
    "    \n",
    "\n",
    "user_results = user_inputs()\n",
    "    \n",
    "    "
   ]
  },
  {
   "cell_type": "code",
   "execution_count": 98,
   "id": "8189fd34",
   "metadata": {},
   "outputs": [
    {
     "data": {
      "text/plain": [
       "DeltaGenerator(_root_container=0, _provided_cursor=None, _parent=None, _block_type=None, _form_data=None)"
      ]
     },
     "execution_count": 98,
     "metadata": {},
     "output_type": "execute_result"
    }
   ],
   "source": [
    "st.header('User Inputs')"
   ]
  },
  {
   "cell_type": "code",
   "execution_count": 201,
   "id": "db6709ed",
   "metadata": {},
   "outputs": [],
   "source": [
    "st.write(user_results)"
   ]
  },
  {
   "cell_type": "code",
   "execution_count": 196,
   "id": "01e375f8",
   "metadata": {},
   "outputs": [
    {
     "data": {
      "text/plain": [
       "DeltaGenerator(_root_container=0, _provided_cursor=None, _parent=None, _block_type=None, _form_data=None)"
      ]
     },
     "execution_count": 196,
     "metadata": {},
     "output_type": "execute_result"
    }
   ],
   "source": [
    "st.header('Predictions')"
   ]
  },
  {
   "cell_type": "code",
   "execution_count": 199,
   "id": "e3cf79a8",
   "metadata": {},
   "outputs": [],
   "source": [
    "y_prediction = load_model.predict(user_results)"
   ]
  },
  {
   "cell_type": "code",
   "execution_count": 202,
   "id": "898d6b2d",
   "metadata": {},
   "outputs": [
    {
     "data": {
      "text/plain": [
       "DeltaGenerator(_root_container=0, _provided_cursor=None, _parent=None, _block_type=None, _form_data=None)"
      ]
     },
     "execution_count": 202,
     "metadata": {},
     "output_type": "execute_result"
    }
   ],
   "source": [
    "st.subheader(f'Total Charge Will be {y_prediction}')"
   ]
  },
  {
   "cell_type": "code",
   "execution_count": null,
   "id": "11922439",
   "metadata": {},
   "outputs": [],
   "source": []
  }
 ],
 "metadata": {
  "kernelspec": {
   "display_name": "Python 3",
   "language": "python",
   "name": "python3"
  },
  "language_info": {
   "codemirror_mode": {
    "name": "ipython",
    "version": 3
   },
   "file_extension": ".py",
   "mimetype": "text/x-python",
   "name": "python",
   "nbconvert_exporter": "python",
   "pygments_lexer": "ipython3",
   "version": "3.8.8"
  }
 },
 "nbformat": 4,
 "nbformat_minor": 5
}
